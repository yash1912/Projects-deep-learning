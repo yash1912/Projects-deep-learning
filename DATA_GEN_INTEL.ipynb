{
  "nbformat": 4,
  "nbformat_minor": 0,
  "metadata": {
    "colab": {
      "name": "DATA_GEN_INTEL.ipynb",
      "provenance": [],
      "collapsed_sections": []
    },
    "kernelspec": {
      "name": "python3",
      "display_name": "Python 3"
    },
    "accelerator": "GPU"
  },
  "cells": [
    {
      "cell_type": "code",
      "metadata": {
        "id": "LglCCh06cqg4",
        "colab_type": "code",
        "outputId": "c4d0fb02-9cbc-40ff-9494-de48a673f88b",
        "colab": {
          "base_uri": "https://localhost:8080/",
          "height": 34
        }
      },
      "source": [
        "cd /content/drive/My Drive/seg_test/seg_test\n"
      ],
      "execution_count": 0,
      "outputs": [
        {
          "output_type": "stream",
          "text": [
            "/content/drive/My Drive/seg_test/seg_test\n"
          ],
          "name": "stdout"
        }
      ]
    },
    {
      "cell_type": "code",
      "metadata": {
        "id": "HVpGQkfaQhSn",
        "colab_type": "code",
        "outputId": "0bccf628-5276-47f1-df3a-88ac4de0985f",
        "colab": {
          "base_uri": "https://localhost:8080/",
          "height": 34
        }
      },
      "source": [
        "!ls\n"
      ],
      "execution_count": 0,
      "outputs": [
        {
          "output_type": "stream",
          "text": [
            "buildings  forest  glacier  mountain  sea  street\n"
          ],
          "name": "stdout"
        }
      ]
    },
    {
      "cell_type": "code",
      "metadata": {
        "id": "PzX600elPA-8",
        "colab_type": "code",
        "outputId": "8ef0d593-caa8-483a-9cae-8e8de0dba8b7",
        "colab": {
          "base_uri": "https://localhost:8080/",
          "height": 1000
        }
      },
      "source": [
        "!unzip intel-image-classification.zip"
      ],
      "execution_count": 0,
      "outputs": [
        {
          "output_type": "stream",
          "text": [
            "\u001b[1;30;43mStreaming output truncated to the last 34 lines.\u001b[0m\n",
            "  
            "
            "  inflating: seg_train/seg_train/street/945.jpg  \n",
            "  inflating: seg_train/seg_train/street/946.jpg  \n",
            "  inflating: seg_train/seg_train/street/9468.jpg  \n",
            "  inflating: seg_train/seg_train/street/9482.jpg  \n",
            "  inflating: seg_train/seg_train/street/9484.jpg  \n",
            "  inflating: seg_train/seg_train/street/9489.jpg  \n",
            "  inflating: seg_train/seg_train/street/9516.jpg  \n",
            "  inflating: seg_train/seg_train/street/9521.jpg  \n",
            "  inflating: seg_train/seg_train/street/9530.jpg  \n",
            "  inflating: seg_train/seg_train/street/9535.jpg  \n",
            "  inflating: seg_train/seg_train/street/9581.jpg  \n",
            "  inflating: seg_train/seg_train/street/9595.jpg  \n",
            "  inflating: seg_train/seg_train/street/9600.jpg  \n",
            "  inflating: seg_train/seg_train/street/9609.jpg  \n",
            "  inflating: seg_train/seg_train/street/9649.jpg  \n",
            "  inflating: seg_train/seg_train/street/9652.jpg  \n",
            "  inflating: seg_train/seg_train/street/9655.jpg  \n",
            "  inflating: seg_train/seg_train/street/9662.jpg  \n",
            "  inflating: seg_train/seg_train/street/9685.jpg  \n",
            "  inflating: seg_train/seg_train/street/9687.jpg  \n",
            "  inflating: seg_train/seg_train/street/9690.jpg  \n",
            "  inflating: seg_train/seg_train/street/9693.jpg  \n",
            "  inflating: seg_train/seg_train/street/970.jpg  \n",
            "  inflating: seg_train/seg_train/street/9704.jpg  \n",
            "  inflating: seg_train/seg_train/street/9707.jpg  \n",
            "  inflating: seg_train/seg_train/street/971.jpg  \n",
            "  inflating: seg_train/seg_train/street/9717.jpg  \n",
            "  inflating: seg_train/seg_train/street/9720.jpg  \n",
            "  inflating: seg_train/seg_train/street/9733.jpg  \n",
            "  inflating: seg_train/seg_train/street/9734.jpg  \n",
            "  inflating: seg_train/seg_train/street/974.jpg  \n",
            "  inflating: seg_train/seg_train/street/9967.jpg  \n",
            "  inflating: seg_train/seg_train/street/9978.jpg  \n",
            "  inflating: seg_train/seg_train/street/9989.jpg  \n",
            "  inflating: seg_train/seg_train/street/999.jpg  \n"
          ],
          "name": "stdout"
        }
      ]
    },
    {
      "cell_type": "code",
      "metadata": {
        "id": "Nh0jidtHjloA",
        "colab_type": "code",
        "colab": {}
      },
      "source": [
        ""
      ],
      "execution_count": 0,
      "outputs": []
    },
    {
      "cell_type": "code",
      "metadata": {
        "id": "u3nComGcBIPI",
        "colab_type": "code",
        "outputId": "cdc2a585-de3c-4691-8c92-934bba563591",
        "colab": {
          "base_uri": "https://localhost:8080/",
          "height": 34
        }
      },
      "source": [
        "import tensorflow as tf\n",
        "from tensorflow import keras\n",
        "from keras.utils.vis_utils import model_to_dot\n",
        "import os\n",
        "import matplotlib.pyplot as plot\n",
        "import cv2\n",
        "import numpy as np\n",
        "from sklearn.utils import shuffle\n",
        "from sklearn.metrics import confusion_matrix as CM\n",
        "from random import randint\n",
        "from IPython.display import SVG\n",
        "import matplotlib.gridspec as gridspec\n",
        "from tensorflow.keras.preprocessing.image import ImageDataGenerator"
      ],
      "execution_count": 0,
      "outputs": [
        {
          "output_type": "stream",
          "text": [
            "Using TensorFlow backend.\n"
          ],
          "name": "stderr"
        }
      ]
    },
    {
      "cell_type": "code",
      "metadata": {
        "id": "P1qCD3LIBQJy",
        "colab_type": "code",
        "outputId": "f2970bfa-cc79-432f-92dd-9b69d96cab56",
        "colab": {
          "base_uri": "https://localhost:8080/",
          "height": 70
        }
      },
      "source": [
        "\n",
        "train_datagen = ImageDataGenerator(validation_split=0.2,rescale=1./255)\n",
        "\n",
        "train_generator = train_datagen.flow_from_directory(\n",
        "    directory=r'/content/drive/My Drive/seg_train/seg_train/',\n",
        "    target_size=(150,150),\n",
        "    class_mode='categorical',\n",
        "    batch_size=16,\n",
        "    subset='training'\n",
        "\n",
        ")\n",
        "validation_generator = train_datagen.flow_from_directory(\n",
        "    directory=r'/content/drive/My Drive/seg_train/seg_train/',\n",
        "    target_size=(150,150),\n",
        "    class_mode='categorical',\n",
        "    batch_size=16,\n",
        "    subset='validation'\n",
        ")\n",
        "\n",
        "test_datagen = ImageDataGenerator(rescale=1./255)\n",
        "\n",
        "test_generator = test_datagen.flow_from_directory(\n",
        "    directory=r'/content/drive/My Drive/seg_test/seg_test/',\n",
        "    target_size=(150,150),\n",
        "    batch_size=1,\n",
        "    class_mode='categorical'\n",
        ")\n",
        "\n"
      ],
      "execution_count": 0,
      "outputs": [
        {
          "output_type": "stream",
          "text": [
            "Found 11230 images belonging to 6 classes.\n",
            "Found 2804 images belonging to 6 classes.\n",
            "Found 3000 images belonging to 6 classes.\n"
          ],
          "name": "stdout"
        }
      ]
    },
    {
      "cell_type": "code",
      "metadata": {
        "id": "WXGoZcsMBXqc",
        "colab_type": "code",
        "outputId": "46fa8666-0b2a-441c-d8e0-c1295f28409c",
        "colab": {
          "base_uri": "https://localhost:8080/",
          "height": 650
        }
      },
      "source": [
        "class MyCallBacks(keras.callbacks.Callback):\n",
        "  def on_epoch_end(self,epoch,logs={}):\n",
        "    if (logs.get('val_acc')>0.8):\n",
        "      print(\"\\n 80% accuracy reached on validation set so stopping the training\")\n",
        "      self.model.stop_training=True\n",
        "\n",
        "callbacks = MyCallBacks()\n",
        "\n",
        "model = keras.Sequential([\n",
        "    keras.layers.Conv2D(16,(3,3),activation='relu',input_shape=(150,150,3)),\n",
        "    keras.layers.MaxPooling2D(2,2),\n",
        "    keras.layers.Conv2D(32,(3,3),activation='relu'),\n",
        "    keras.layers.MaxPooling2D(2,2),\n",
        "    keras.layers.Conv2D(64,(3,3),activation='relu'),\n",
        "    keras.layers.MaxPooling2D(2,2),\n",
        "    keras.layers.Conv2D(128,(3,3),activation='relu'),\n",
        "    keras.layers.MaxPooling2D(2,2),\n",
        "    keras.layers.Conv2D(128,(3,3),activation='relu'),\n",
        "    keras.layers.Flatten(),\n",
        "    keras.layers.Dense(128,activation='relu'),\n",
        "    keras.layers.Dense(50,activation='relu'),\n",
        "    keras.layers.Dropout(rate=0.5),\n",
        "    keras.layers.Dense(6,activation='softmax')\n",
        "    \n",
        "])\n",
        "\n",
        "model.compile(optimizer=keras.optimizers.Adam(lr=0.0001),loss=keras.losses.CategoricalCrossentropy(from_logits=False),metrics=['accuracy'])\n",
        "\n",
        "\n",
        "model.summary()"
      ],
      "execution_count": 0,
      "outputs": [
        {
          "output_type": "stream",
          "text": [
            "Model: \"sequential_1\"\n",
            "_________________________________________________________________\n",
            "Layer (type)                 Output Shape              Param #   \n",
            "=================================================================\n",
            "conv2d_5 (Conv2D)            (None, 148, 148, 16)      448       \n",
            "_________________________________________________________________\n",
            "max_pooling2d_4 (MaxPooling2 (None, 74, 74, 16)        0         \n",
            "_________________________________________________________________\n",
            "conv2d_6 (Conv2D)            (None, 72, 72, 32)        4640      \n",
            "_________________________________________________________________\n",
            "max_pooling2d_5 (MaxPooling2 (None, 36, 36, 32)        0         \n",
            "_________________________________________________________________\n",
            "conv2d_7 (Conv2D)            (None, 34, 34, 64)        18496     \n",
            "_________________________________________________________________\n",
            "max_pooling2d_6 (MaxPooling2 (None, 17, 17, 64)        0         \n",
            "_________________________________________________________________\n",
            "conv2d_8 (Conv2D)            (None, 15, 15, 128)       73856     \n",
            "_________________________________________________________________\n",
            "max_pooling2d_7 (MaxPooling2 (None, 7, 7, 128)         0         \n",
            "_________________________________________________________________\n",
            "conv2d_9 (Conv2D)            (None, 5, 5, 128)         147584    \n",
            "_________________________________________________________________\n",
            "flatten_1 (Flatten)          (None, 3200)              0         \n",
            "_________________________________________________________________\n",
            "dense_3 (Dense)              (None, 128)               409728    \n",
            "_________________________________________________________________\n",
            "dense_4 (Dense)              (None, 50)                6450      \n",
            "_________________________________________________________________\n",
            "dropout_1 (Dropout)          (None, 50)                0         \n",
            "_________________________________________________________________\n",
            "dense_5 (Dense)              (None, 6)                 306       \n",
            "=================================================================\n",
            "Total params: 661,508\n",
            "Trainable params: 661,508\n",
            "Non-trainable params: 0\n",
            "_________________________________________________________________\n"
          ],
          "name": "stdout"
        }
      ]
    },
    {
      "cell_type": "code",
      "metadata": {
        "id": "gFj_Cbw_F5WU",
        "colab_type": "code",
        "outputId": "39c07fc9-8e24-44aa-ebe9-166089aa3b25",
        "colab": {
          "base_uri": "https://localhost:8080/",
          "height": 1000
        }
      },
      "source": [
        "\n",
        "history = model.fit_generator(\n",
        "    train_generator,\n",
        "    steps_per_epoch=175,   \n",
        "    epochs=30,\n",
        "    verbose=2,\n",
        "    validation_data=validation_generator,\n",
        "    validation_steps=175\n",
        ")"
      ],
      "execution_count": 0,
      "outputs": [
        {
          "output_type": "stream",
          "text": [
            "Epoch 1/30\n",
            "175/175 - 14s - loss: 0.7790 - accuracy: 0.7261 - val_loss: 0.6527 - val_accuracy: 0.7657\n",
            "Epoch 2/30\n",
            "175/175 - 14s - loss: 0.7641 - accuracy: 0.7268 - val_loss: 0.6737 - val_accuracy: 0.7596\n",
            "Epoch 3/30\n",
            "175/175 - 14s - loss: 0.7649 - accuracy: 0.7246 - val_loss: 0.6290 - val_accuracy: 0.7800\n",
            "Epoch 4/30\n",
            "175/175 - 14s - loss: 0.7585 - accuracy: 0.7300 - val_loss: 0.6285 - val_accuracy: 0.7718\n",
            "Epoch 5/30\n",
            "175/175 - 14s - loss: 0.7317 - accuracy: 0.7452 - val_loss: 0.6297 - val_accuracy: 0.7875\n",
            "Epoch 6/30\n",
            "175/175 - 14s - loss: 0.7087 - accuracy: 0.7557 - val_loss: 0.6143 - val_accuracy: 0.7829\n",
            "Epoch 7/30\n",
            "175/175 - 14s - loss: 0.7505 - accuracy: 0.7307 - val_loss: 0.6294 - val_accuracy: 0.7754\n",
            "Epoch 8/30\n",
            "175/175 - 14s - loss: 0.6782 - accuracy: 0.7639 - val_loss: 0.6033 - val_accuracy: 0.7900\n",
            "Epoch 9/30\n",
            "175/175 - 14s - loss: 0.6642 - accuracy: 0.7695 - val_loss: 0.6399 - val_accuracy: 0.7686\n",
            "Epoch 10/30\n",
            "175/175 - 14s - loss: 0.7044 - accuracy: 0.7596 - val_loss: 0.6167 - val_accuracy: 0.7786\n",
            "Epoch 11/30\n",
            "175/175 - 14s - loss: 0.6231 - accuracy: 0.7832 - val_loss: 0.5984 - val_accuracy: 0.7814\n",
            "Epoch 12/30\n",
            "175/175 - 13s - loss: 0.6845 - accuracy: 0.7657 - val_loss: 0.5857 - val_accuracy: 0.7889\n",
            "Epoch 13/30\n",
            "175/175 - 14s - loss: 0.6433 - accuracy: 0.7709 - val_loss: 0.5533 - val_accuracy: 0.8004\n",
            "Epoch 14/30\n",
            "175/175 - 14s - loss: 0.6237 - accuracy: 0.7814 - val_loss: 0.5933 - val_accuracy: 0.7836\n",
            "Epoch 15/30\n",
            "175/175 - 14s - loss: 0.6648 - accuracy: 0.7729 - val_loss: 0.6756 - val_accuracy: 0.7664\n",
            "Epoch 16/30\n",
            "175/175 - 14s - loss: 0.6503 - accuracy: 0.7754 - val_loss: 0.5792 - val_accuracy: 0.7946\n",
            "Epoch 17/30\n",
            "175/175 - 14s - loss: 0.6518 - accuracy: 0.7795 - val_loss: 0.5606 - val_accuracy: 0.8032\n",
            "Epoch 18/30\n",
            "175/175 - 14s - loss: 0.6376 - accuracy: 0.7764 - val_loss: 0.5656 - val_accuracy: 0.8011\n",
            "Epoch 19/30\n",
            "175/175 - 14s - loss: 0.5941 - accuracy: 0.8025 - val_loss: 0.5671 - val_accuracy: 0.7939\n",
            "Epoch 20/30\n",
            "175/175 - 14s - loss: 0.6189 - accuracy: 0.7900 - val_loss: 0.5837 - val_accuracy: 0.7950\n",
            "Epoch 21/30\n",
            "175/175 - 14s - loss: 0.5919 - accuracy: 0.7934 - val_loss: 0.5468 - val_accuracy: 0.8014\n",
            "Epoch 22/30\n",
            "175/175 - 14s - loss: 0.5958 - accuracy: 0.8039 - val_loss: 0.5220 - val_accuracy: 0.8132\n",
            "Epoch 23/30\n",
            "175/175 - 14s - loss: 0.5921 - accuracy: 0.7971 - val_loss: 0.5176 - val_accuracy: 0.8086\n",
            "Epoch 24/30\n",
            "175/175 - 14s - loss: 0.5788 - accuracy: 0.8000 - val_loss: 0.5211 - val_accuracy: 0.8139\n",
            "Epoch 25/30\n",
            "175/175 - 14s - loss: 0.5756 - accuracy: 0.7984 - val_loss: 0.5476 - val_accuracy: 0.8075\n",
            "Epoch 26/30\n",
            "175/175 - 14s - loss: 0.5627 - accuracy: 0.8114 - val_loss: 0.5225 - val_accuracy: 0.8107\n",
            "Epoch 27/30\n",
            "175/175 - 14s - loss: 0.5408 - accuracy: 0.8182 - val_loss: 0.5061 - val_accuracy: 0.8193\n",
            "Epoch 28/30\n",
            "175/175 - 14s - loss: 0.5730 - accuracy: 0.8039 - val_loss: 0.5024 - val_accuracy: 0.8250\n",
            "Epoch 29/30\n",
            "175/175 - 14s - loss: 0.5352 - accuracy: 0.8242 - val_loss: 0.5061 - val_accuracy: 0.8189\n",
            "Epoch 30/30\n",
            "175/175 - 14s - loss: 0.5268 - accuracy: 0.8207 - val_loss: 0.5108 - val_accuracy: 0.8214\n"
          ],
          "name": "stdout"
        }
      ]
    },
    {
      "cell_type": "code",
      "metadata": {
        "id": "DQSK_PRIbUXx",
        "colab_type": "code",
        "outputId": "752a7f42-34a1-4112-ec7e-80cc7850621d",
        "colab": {
          "base_uri": "https://localhost:8080/",
          "height": 52
        }
      },
      "source": [
        "model.evaluate_generator(test_generator,verbose=1,steps=3000)"
      ],
      "execution_count": 0,
      "outputs": [
        {
          "output_type": "stream",
          "text": [
            "3000/3000 [==============================] - 16s 5ms/step - loss: 0.5172 - accuracy: 0.8173\n"
          ],
          "name": "stdout"
        },
        {
          "output_type": "execute_result",
          "data": {
            "text/plain": [
              "[0.5172491669654846, 0.8173333406448364]"
            ]
          },
          "metadata": {
            "tags": []
          },
          "execution_count": 18
        }
      ]
    },
    {
      "cell_type": "code",
      "metadata": {
        "id": "KYNGfdjVis7S",
        "colab_type": "code",
        "colab": {}
      },
      "source": [
        ""
      ],
      "execution_count": 0,
      "outputs": []
    }
  ]
}
